{
 "cells": [
  {
   "cell_type": "code",
   "execution_count": 1,
   "id": "joint-growing",
   "metadata": {},
   "outputs": [],
   "source": [
    "import pandas as pd\n",
    "import configparser\n",
    "import lib.Tools as tools\n",
    "from scipy import stats\n",
    "import numpy as np\n",
    "import matplotlib.pyplot as plt"
   ]
  },
  {
   "cell_type": "code",
   "execution_count": 2,
   "id": "verified-smoke",
   "metadata": {},
   "outputs": [
    {
     "data": {
      "text/plain": [
       "['./lib/application.config']"
      ]
     },
     "execution_count": 2,
     "metadata": {},
     "output_type": "execute_result"
    }
   ],
   "source": [
    "config = configparser.ConfigParser()\n",
    "config.read('./lib/application.config')"
   ]
  },
  {
   "cell_type": "code",
   "execution_count": 3,
   "id": "surprising-disposal",
   "metadata": {},
   "outputs": [],
   "source": [
    "key = config['finnhub']['key']\n",
    "resolution = config['question2']['resolution']\n",
    "symbol = config['question2']['symbol']\n",
    "start_time = config['question2']['start_time']\n",
    "end_time = config['question2']['end_time']"
   ]
  },
  {
   "cell_type": "code",
   "execution_count": 4,
   "id": "swiss-roulette",
   "metadata": {},
   "outputs": [],
   "source": [
    "start = tools.date_to_epoch(start_time)\n",
    "end = tools.date_to_epoch(end_time)"
   ]
  },
  {
   "cell_type": "code",
   "execution_count": 5,
   "id": "aerial-plant",
   "metadata": {},
   "outputs": [],
   "source": [
    "res = tools.getStockCandles(key, symbol, resolution, start, end)\n",
    "res.pop('s', None)\n",
    "df = pd.DataFrame(res)"
   ]
  },
  {
   "cell_type": "code",
   "execution_count": 6,
   "id": "motivated-graph",
   "metadata": {},
   "outputs": [],
   "source": [
    "# Insert Date column in df\n",
    "df.insert(0, \"Date\", \"\")\n",
    "# convert epotch time to datetime stamp in Date column\n",
    "df['Date'] = pd.to_datetime(df['t'], unit='s')\n",
    "df.insert(7, \"daily_return\", float, allow_duplicates=True)\n"
   ]
  },
  {
   "cell_type": "code",
   "execution_count": 7,
   "id": "suffering-niagara",
   "metadata": {},
   "outputs": [],
   "source": [
    "df1 = tools.cal_DailyReturn(df)\n",
    "#print(df1)"
   ]
  },
  {
   "cell_type": "code",
   "execution_count": 8,
   "id": "respective-spokesman",
   "metadata": {},
   "outputs": [
    {
     "data": {
      "image/png": "[encoded data removed]",
      "text/plain": [
       "<Figure size 432x288 with 1 Axes>"
      ]
     },
     "metadata": {
      "needs_background": "light"
     },
     "output_type": "display_data"
    }
   ],
   "source": [
    "mean = df1['daily_return'].mean()\n",
    "std  = df1['daily_return'].std()\n",
    "\n",
    "x = np.arange(-0.2, 0.2, 0.0001)\n",
    "y = tools.normfun(x, mean, std)\n",
    "plt.plot(x,y)\n",
    "\n",
    "plt.hist(df1['daily_return'], bins = 30, rwidth=0.9, density=True)\n",
    "plt.title(\"Daily_return distribution\")\n",
    "plt.xlabel(\"Daily_return\")\n",
    "plt.ylabel(\"Probability\")\n",
    "plt.grid()\n"
   ]
  },
  {
   "cell_type": "code",
   "execution_count": 9,
   "id": "interpreted-fluid",
   "metadata": {},
   "outputs": [],
   "source": [
    "# run normal test \n",
    "stat , p = stats.normaltest(df1['daily_return'])"
   ]
  },
  {
   "cell_type": "code",
   "execution_count": 10,
   "id": "threatened-fever",
   "metadata": {},
   "outputs": [
    {
     "name": "stdout",
     "output_type": "stream",
     "text": [
      "The daily return is NOT normal\n"
     ]
    }
   ],
   "source": [
    "if p < 0.05:\n",
    "    print(\"The daily return is NOT normal\")\n",
    "if p > 0.05:\n",
    "    print(\"The daily return is Normal\")"
   ]
  },
  {
   "cell_type": "code",
   "execution_count": 11,
   "id": "running-privilege",
   "metadata": {},
   "outputs": [],
   "source": [
    "# run shapiro test\n",
    "stat, p = stats.shapiro(df1['daily_return'])"
   ]
  },
  {
   "cell_type": "code",
   "execution_count": 12,
   "id": "descending-current",
   "metadata": {},
   "outputs": [
    {
     "name": "stdout",
     "output_type": "stream",
     "text": [
      "Shapiro test indicates the daily return is NOT normal\n"
     ]
    }
   ],
   "source": [
    "if p<0.05:\n",
    "    print(\"Shapiro test indicates the daily return is NOT normal\")\n",
    "if p>0.05:\n",
    "    print(\"Shapiro test indicates the daily return is normal\")"
   ]
  },
  {
   "cell_type": "code",
   "execution_count": null,
   "id": "crude-slave",
   "metadata": {},
   "outputs": [],
   "source": []
  }
 ],
 "metadata": {
  "kernelspec": {
   "display_name": "Python 3",
   "language": "python",
   "name": "python3"
  },
  "language_info": {
   "codemirror_mode": {
    "name": "ipython",
    "version": 3
   },
   "file_extension": ".py",
   "mimetype": "text/x-python",
   "name": "python",
   "nbconvert_exporter": "python",
   "pygments_lexer": "ipython3",
   "version": "3.8.5"
  }
 },
 "nbformat": 4,
 "nbformat_minor": 5
}
